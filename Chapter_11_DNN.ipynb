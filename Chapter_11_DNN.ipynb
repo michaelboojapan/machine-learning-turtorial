{
 "cells": [
  {
   "cell_type": "code",
   "execution_count": 1,
   "metadata": {},
   "outputs": [],
   "source": [
    "import tensorflow as tf\n",
    "from tensorflow import keras\n",
    "from matplotlib import pyplot as plt\n",
    "import numpy as np\n",
    "import pandas as pd"
   ]
  },
  {
   "cell_type": "code",
   "execution_count": 2,
   "metadata": {},
   "outputs": [],
   "source": [
    "fashion_mnist = keras.datasets.fashion_mnist\n",
    "(X_train_full, y_train_full), (X_test, y_test) = fashion_mnist.load_data()\n",
    "X_valid, X_train = X_train_full[:5000] / 255.0, X_train_full[5000:] / 255.0\n",
    "y_valid, y_train = y_train_full[:5000], y_train_full[5000:]"
   ]
  },
  {
   "cell_type": "code",
   "execution_count": 3,
   "metadata": {},
   "outputs": [],
   "source": [
    "class_names = [\"T-shirt/top\", \"Trouser\", \"Pullover\", \"Dress\", \"Coat\", \"Sandal\", \"Shirt\", \"Sneaker\", \"Bag\", \"Ankle boot\"]"
   ]
  },
  {
   "cell_type": "code",
   "execution_count": 4,
   "metadata": {},
   "outputs": [],
   "source": [
    "model = keras.models.Sequential()\n",
    "model.add(keras.layers.Flatten(input_shape=[28, 28]))\n",
    "model.add(keras.layers.Dense(300, activation=\"relu\"))\n",
    "model.add(keras.layers.Dense(100, activation=\"relu\"))\n",
    "model.add(keras.layers.Dense(10, activation=\"softmax\"))"
   ]
  },
  {
   "cell_type": "code",
   "execution_count": 5,
   "metadata": {},
   "outputs": [],
   "source": [
    "model.compile(loss=\"sparse_categorical_crossentropy\", optimizer=\"sgd\", metrics=[\"accuracy\"])"
   ]
  },
  {
   "cell_type": "code",
   "execution_count": 6,
   "metadata": {},
   "outputs": [
    {
     "name": "stdout",
     "output_type": "stream",
     "text": [
      "Epoch 1/30\n",
      "1719/1719 [==============================] - 1s 868us/step - loss: 0.6991 - accuracy: 0.7698 - val_loss: 0.4995 - val_accuracy: 0.8346\n",
      "Epoch 2/30\n",
      "1719/1719 [==============================] - 1s 803us/step - loss: 0.4854 - accuracy: 0.8296 - val_loss: 0.4396 - val_accuracy: 0.8522\n",
      "Epoch 3/30\n",
      "1719/1719 [==============================] - 1s 792us/step - loss: 0.4422 - accuracy: 0.8447 - val_loss: 0.4265 - val_accuracy: 0.8538\n",
      "Epoch 4/30\n",
      "1719/1719 [==============================] - 1s 796us/step - loss: 0.4160 - accuracy: 0.8537 - val_loss: 0.4069 - val_accuracy: 0.8586\n",
      "Epoch 5/30\n",
      "1719/1719 [==============================] - 1s 791us/step - loss: 0.3945 - accuracy: 0.8604 - val_loss: 0.4205 - val_accuracy: 0.8560\n",
      "Epoch 6/30\n",
      "1719/1719 [==============================] - 1s 792us/step - loss: 0.3798 - accuracy: 0.8657 - val_loss: 0.3717 - val_accuracy: 0.8700\n",
      "Epoch 7/30\n",
      "1719/1719 [==============================] - 1s 798us/step - loss: 0.3669 - accuracy: 0.8701 - val_loss: 0.3849 - val_accuracy: 0.8648\n",
      "Epoch 8/30\n",
      "1719/1719 [==============================] - 1s 798us/step - loss: 0.3536 - accuracy: 0.8746 - val_loss: 0.3722 - val_accuracy: 0.8708\n",
      "Epoch 9/30\n",
      "1719/1719 [==============================] - 1s 801us/step - loss: 0.3443 - accuracy: 0.8770 - val_loss: 0.3793 - val_accuracy: 0.8712\n",
      "Epoch 10/30\n",
      "1719/1719 [==============================] - 1s 797us/step - loss: 0.3346 - accuracy: 0.8807 - val_loss: 0.3453 - val_accuracy: 0.8810\n",
      "Epoch 11/30\n",
      "1719/1719 [==============================] - 1s 796us/step - loss: 0.3260 - accuracy: 0.8834 - val_loss: 0.3646 - val_accuracy: 0.8716\n",
      "Epoch 12/30\n",
      "1719/1719 [==============================] - 1s 830us/step - loss: 0.3171 - accuracy: 0.8872 - val_loss: 0.3380 - val_accuracy: 0.8810\n",
      "Epoch 13/30\n",
      "1719/1719 [==============================] - 1s 842us/step - loss: 0.3100 - accuracy: 0.8901 - val_loss: 0.3242 - val_accuracy: 0.8830\n",
      "Epoch 14/30\n",
      "1719/1719 [==============================] - 1s 797us/step - loss: 0.3031 - accuracy: 0.8908 - val_loss: 0.3310 - val_accuracy: 0.8800\n",
      "Epoch 15/30\n",
      "1719/1719 [==============================] - 1s 791us/step - loss: 0.2969 - accuracy: 0.8940 - val_loss: 0.3353 - val_accuracy: 0.8816\n",
      "Epoch 16/30\n",
      "1719/1719 [==============================] - 1s 795us/step - loss: 0.2899 - accuracy: 0.8956 - val_loss: 0.3411 - val_accuracy: 0.8798\n",
      "Epoch 17/30\n",
      "1719/1719 [==============================] - 1s 796us/step - loss: 0.2852 - accuracy: 0.8968 - val_loss: 0.3144 - val_accuracy: 0.8878\n",
      "Epoch 18/30\n",
      "1719/1719 [==============================] - 1s 824us/step - loss: 0.2794 - accuracy: 0.8988 - val_loss: 0.3202 - val_accuracy: 0.8862\n",
      "Epoch 19/30\n",
      "1719/1719 [==============================] - 1s 827us/step - loss: 0.2753 - accuracy: 0.9009 - val_loss: 0.3176 - val_accuracy: 0.8876\n",
      "Epoch 20/30\n",
      "1719/1719 [==============================] - 1s 796us/step - loss: 0.2696 - accuracy: 0.9021 - val_loss: 0.3232 - val_accuracy: 0.8834\n",
      "Epoch 21/30\n",
      "1719/1719 [==============================] - 1s 805us/step - loss: 0.2643 - accuracy: 0.9047 - val_loss: 0.3257 - val_accuracy: 0.8866\n",
      "Epoch 22/30\n",
      "1719/1719 [==============================] - 1s 799us/step - loss: 0.2601 - accuracy: 0.9048 - val_loss: 0.3092 - val_accuracy: 0.8892\n",
      "Epoch 23/30\n",
      "1719/1719 [==============================] - 1s 792us/step - loss: 0.2553 - accuracy: 0.9090 - val_loss: 0.3007 - val_accuracy: 0.8886\n",
      "Epoch 24/30\n",
      "1719/1719 [==============================] - 1s 796us/step - loss: 0.2514 - accuracy: 0.9089 - val_loss: 0.3234 - val_accuracy: 0.8824\n",
      "Epoch 25/30\n",
      "1719/1719 [==============================] - 1s 797us/step - loss: 0.2469 - accuracy: 0.9110 - val_loss: 0.3122 - val_accuracy: 0.8894\n",
      "Epoch 26/30\n",
      "1719/1719 [==============================] - 1s 794us/step - loss: 0.2425 - accuracy: 0.9124 - val_loss: 0.3129 - val_accuracy: 0.8898\n",
      "Epoch 27/30\n",
      "1719/1719 [==============================] - 1s 798us/step - loss: 0.2391 - accuracy: 0.9137 - val_loss: 0.3071 - val_accuracy: 0.8922\n",
      "Epoch 28/30\n",
      "1719/1719 [==============================] - 1s 796us/step - loss: 0.2355 - accuracy: 0.9149 - val_loss: 0.2941 - val_accuracy: 0.8908\n",
      "Epoch 29/30\n",
      "1719/1719 [==============================] - 1s 810us/step - loss: 0.2298 - accuracy: 0.9168 - val_loss: 0.2995 - val_accuracy: 0.8922\n",
      "Epoch 30/30\n",
      "1719/1719 [==============================] - 1s 796us/step - loss: 0.2270 - accuracy: 0.9170 - val_loss: 0.2948 - val_accuracy: 0.8926\n"
     ]
    }
   ],
   "source": [
    "history = model.fit(X_train, y_train, epochs=30, validation_data=(X_valid, y_valid))"
   ]
  },
  {
   "cell_type": "code",
   "execution_count": 7,
   "metadata": {},
   "outputs": [
    {
     "data": {
      "image/png": "[encoded data removed]",
      "text/plain": [
       "<Figure size 576x360 with 1 Axes>"
      ]
     },
     "metadata": {
      "needs_background": "light"
     },
     "output_type": "display_data"
    }
   ],
   "source": [
    "pd.DataFrame(history.history).plot(figsize=(8, 5))\n",
    "plt.grid(True)\n",
    "plt.gca().set_ylim(0, 1)\n",
    "plt.show()"
   ]
  },
  {
   "cell_type": "code",
   "execution_count": 8,
   "metadata": {},
   "outputs": [
    {
     "name": "stdout",
     "output_type": "stream",
     "text": [
      "Epoch 1/30\n",
      "1719/1719 [==============================] - 2s 1ms/step - loss: 0.5446 - accuracy: 0.8109 - val_loss: 0.4115 - val_accuracy: 0.8578\n",
      "Epoch 2/30\n",
      "1719/1719 [==============================] - 2s 1ms/step - loss: 0.4221 - accuracy: 0.8514 - val_loss: 0.3702 - val_accuracy: 0.8714\n",
      "Epoch 3/30\n",
      "1719/1719 [==============================] - 2s 1ms/step - loss: 0.3865 - accuracy: 0.8629 - val_loss: 0.3557 - val_accuracy: 0.8710\n",
      "Epoch 4/30\n",
      "1719/1719 [==============================] - 2s 1ms/step - loss: 0.3626 - accuracy: 0.8705 - val_loss: 0.3412 - val_accuracy: 0.8806\n",
      "Epoch 5/30\n",
      "1719/1719 [==============================] - 2s 1ms/step - loss: 0.3441 - accuracy: 0.8755 - val_loss: 0.3340 - val_accuracy: 0.8802\n",
      "Epoch 6/30\n",
      "1719/1719 [==============================] - 2s 1ms/step - loss: 0.3312 - accuracy: 0.8802 - val_loss: 0.3251 - val_accuracy: 0.8844\n",
      "Epoch 7/30\n",
      "1719/1719 [==============================] - 2s 1ms/step - loss: 0.3157 - accuracy: 0.8850 - val_loss: 0.3235 - val_accuracy: 0.8830\n",
      "Epoch 8/30\n",
      "1719/1719 [==============================] - 2s 1ms/step - loss: 0.3077 - accuracy: 0.8875 - val_loss: 0.3207 - val_accuracy: 0.8864\n",
      "Epoch 9/30\n",
      "1719/1719 [==============================] - 2s 1ms/step - loss: 0.2950 - accuracy: 0.8935 - val_loss: 0.3211 - val_accuracy: 0.8854\n",
      "Epoch 10/30\n",
      "1719/1719 [==============================] - 2s 1ms/step - loss: 0.2868 - accuracy: 0.8958 - val_loss: 0.3159 - val_accuracy: 0.8886\n",
      "Epoch 11/30\n",
      "1719/1719 [==============================] - 2s 1ms/step - loss: 0.2799 - accuracy: 0.8982 - val_loss: 0.3158 - val_accuracy: 0.8856\n",
      "Epoch 12/30\n",
      "1719/1719 [==============================] - 2s 1ms/step - loss: 0.2717 - accuracy: 0.9021 - val_loss: 0.3185 - val_accuracy: 0.8862\n",
      "Epoch 13/30\n",
      "1719/1719 [==============================] - 2s 1ms/step - loss: 0.2635 - accuracy: 0.9029 - val_loss: 0.3099 - val_accuracy: 0.8872\n",
      "Epoch 14/30\n",
      "1719/1719 [==============================] - 2s 1ms/step - loss: 0.2564 - accuracy: 0.9059 - val_loss: 0.3085 - val_accuracy: 0.8914\n",
      "Epoch 15/30\n",
      "1719/1719 [==============================] - 2s 1ms/step - loss: 0.2497 - accuracy: 0.9094 - val_loss: 0.3061 - val_accuracy: 0.8920\n",
      "Epoch 16/30\n",
      "1719/1719 [==============================] - 2s 1ms/step - loss: 0.2430 - accuracy: 0.9117 - val_loss: 0.3135 - val_accuracy: 0.8872\n",
      "Epoch 17/30\n",
      "1719/1719 [==============================] - 2s 1ms/step - loss: 0.2404 - accuracy: 0.9125 - val_loss: 0.3122 - val_accuracy: 0.8892\n",
      "Epoch 18/30\n",
      "1719/1719 [==============================] - 2s 1ms/step - loss: 0.2324 - accuracy: 0.9150 - val_loss: 0.3108 - val_accuracy: 0.8896\n",
      "Epoch 19/30\n",
      "1719/1719 [==============================] - 2s 1ms/step - loss: 0.2295 - accuracy: 0.9165 - val_loss: 0.3158 - val_accuracy: 0.8892\n",
      "Epoch 20/30\n",
      "1719/1719 [==============================] - 2s 1ms/step - loss: 0.2228 - accuracy: 0.9179 - val_loss: 0.3173 - val_accuracy: 0.8894\n",
      "Epoch 21/30\n",
      "1719/1719 [==============================] - 2s 1ms/step - loss: 0.2172 - accuracy: 0.9205 - val_loss: 0.3094 - val_accuracy: 0.8906\n",
      "Epoch 22/30\n",
      "1719/1719 [==============================] - 2s 1ms/step - loss: 0.2101 - accuracy: 0.9236 - val_loss: 0.3095 - val_accuracy: 0.8944\n",
      "Epoch 23/30\n",
      "1719/1719 [==============================] - 2s 1ms/step - loss: 0.2064 - accuracy: 0.9240 - val_loss: 0.3083 - val_accuracy: 0.8932\n",
      "Epoch 24/30\n",
      "1719/1719 [==============================] - 2s 1ms/step - loss: 0.2024 - accuracy: 0.9265 - val_loss: 0.3171 - val_accuracy: 0.8896\n",
      "Epoch 25/30\n",
      "1719/1719 [==============================] - 2s 1ms/step - loss: 0.1983 - accuracy: 0.9277 - val_loss: 0.3024 - val_accuracy: 0.8952\n",
      "Epoch 26/30\n",
      "1719/1719 [==============================] - 2s 1ms/step - loss: 0.1943 - accuracy: 0.9284 - val_loss: 0.3082 - val_accuracy: 0.8912\n",
      "Epoch 27/30\n",
      "1719/1719 [==============================] - 2s 1ms/step - loss: 0.1891 - accuracy: 0.9311 - val_loss: 0.3085 - val_accuracy: 0.8938\n",
      "Epoch 28/30\n",
      "1719/1719 [==============================] - 2s 1ms/step - loss: 0.1853 - accuracy: 0.9316 - val_loss: 0.3232 - val_accuracy: 0.8842\n",
      "Epoch 29/30\n",
      "1719/1719 [==============================] - 2s 1ms/step - loss: 0.1818 - accuracy: 0.9336 - val_loss: 0.3189 - val_accuracy: 0.8910\n",
      "Epoch 30/30\n",
      "1719/1719 [==============================] - 2s 1ms/step - loss: 0.1806 - accuracy: 0.9334 - val_loss: 0.3173 - val_accuracy: 0.8896\n"
     ]
    }
   ],
   "source": [
    "model = keras.models.Sequential([\n",
    "    keras.layers.Flatten(input_shape=[28, 28]),\n",
    "    keras.layers.BatchNormalization(),\n",
    "    keras.layers.Dense(300, activation=\"elu\", kernel_initializer=\"he_normal\"),\n",
    "    keras.layers.BatchNormalization(),\n",
    "    keras.layers.Dense(100, activation=\"elu\", kernel_initializer=\"he_normal\"),\n",
    "    keras.layers.BatchNormalization(),\n",
    "    keras.layers.Dense(10, activation=\"softmax\")\n",
    "])\n",
    "model.compile(loss=\"sparse_categorical_crossentropy\", optimizer=\"sgd\", metrics=[\"accuracy\"])\n",
    "history = model.fit(X_train, y_train, epochs=30, validation_data=(X_valid, y_valid))"
   ]
  },
  {
   "cell_type": "code",
   "execution_count": 9,
   "metadata": {},
   "outputs": [
    {
     "data": {
      "image/png": "[encoded data removed]",
      "text/plain": [
       "<Figure size 576x360 with 1 Axes>"
      ]
     },
     "metadata": {
      "needs_background": "light"
     },
     "output_type": "display_data"
    }
   ],
   "source": [
    "pd.DataFrame(history.history).plot(figsize=(8, 5))\n",
    "plt.grid(True)\n",
    "plt.gca().set_ylim(0, 1)\n",
    "plt.show()"
   ]
  },
  {
   "cell_type": "code",
   "execution_count": 10,
   "metadata": {},
   "outputs": [
    {
     "name": "stdout",
     "output_type": "stream",
     "text": [
      "Model: \"sequential_1\"\n",
      "_________________________________________________________________\n",
      "Layer (type)                 Output Shape              Param #   \n",
      "=================================================================\n",
      "flatten_1 (Flatten)          (None, 784)               0         \n",
      "_________________________________________________________________\n",
      "batch_normalization (BatchNo (None, 784)               3136      \n",
      "_________________________________________________________________\n",
      "dense_3 (Dense)              (None, 300)               235500    \n",
      "_________________________________________________________________\n",
      "batch_normalization_1 (Batch (None, 300)               1200      \n",
      "_________________________________________________________________\n",
      "dense_4 (Dense)              (None, 100)               30100     \n",
      "_________________________________________________________________\n",
      "batch_normalization_2 (Batch (None, 100)               400       \n",
      "_________________________________________________________________\n",
      "dense_5 (Dense)              (None, 10)                1010      \n",
      "=================================================================\n",
      "Total params: 271,346\n",
      "Trainable params: 268,978\n",
      "Non-trainable params: 2,368\n",
      "_________________________________________________________________\n"
     ]
    }
   ],
   "source": [
    "model.summary()"
   ]
  },
  {
   "cell_type": "code",
   "execution_count": null,
   "metadata": {},
   "outputs": [],
   "source": []
  }
 ],
 "metadata": {
  "kernelspec": {
   "display_name": "Python 3",
   "language": "python",
   "name": "python3"
  },
  "language_info": {
   "codemirror_mode": {
    "name": "ipython",
    "version": 3
   },
   "file_extension": ".py",
   "mimetype": "text/x-python",
   "name": "python",
   "nbconvert_exporter": "python",
   "pygments_lexer": "ipython3",
   "version": "3.8.5"
  }
 },
 "nbformat": 4,
 "nbformat_minor": 4
}
